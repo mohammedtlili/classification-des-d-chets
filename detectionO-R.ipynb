{
 "cells": [
  {
   "cell_type": "markdown",
   "metadata": {},
   "source": [
    "# CNN utilisant Tensorflow\n",
    "####  Python · Données de classification des déchets"
   ]
  },
  {
   "cell_type": "code",
   "execution_count": 1,
   "metadata": {},
   "outputs": [],
   "source": [
    "import tensorflow as tf\n",
    "from tensorflow import keras\n",
    "import os\n",
    "import shutil\n",
    "from tqdm import tqdm\n",
    "from tensorflow.keras.preprocessing.image import ImageDataGenerator\n",
    "import numpy as np\n",
    "from sklearn.metrics import confusion_matrix\n",
    "import random\n",
    "import cv2\n",
    "from tensorflow.keras.models import Sequential\n",
    "from tensorflow.keras.layers import Dense,Conv2D,BatchNormalization,Flatten,AvgPool2D\n",
    "from tensorflow.keras.optimizers import Adam\n",
    "import matplotlib.pyplot as plt\n",
    "from tensorflow.keras.callbacks import EarlyStopping"
   ]
  },
  {
   "cell_type": "raw",
   "metadata": {},
   "source": [
    "j'ai rencontré une probléme au niveau d'importation du keras-tuner il faut l'installer"
   ]
  },
  {
   "cell_type": "code",
   "execution_count": 2,
   "metadata": {},
   "outputs": [],
   "source": [
    "#!pip install keras-tuner -q"
   ]
  },
  {
   "cell_type": "code",
   "execution_count": 30,
   "metadata": {},
   "outputs": [],
   "source": [
    "import keras_tuner as kt\n"
   ]
  },
  {
   "cell_type": "raw",
   "metadata": {},
   "source": [
    "J'ai utilisé ImageDataGenerator pour créer mes ensembles de données de formation, de validation et de test. Pour cela, je dois stocker les images de train, valides et de test dans trois fichiers distincts afin de transmettre ces chemins de fichiers en tant que paramètres à ImageDataGenerator. J'ai également utilisé le tuner keras pour trouver le taux d'apprentissage optimal\n"
   ]
  },
  {
   "cell_type": "code",
   "execution_count": 82,
   "metadata": {},
   "outputs": [
    {
     "name": "stdout",
     "output_type": "stream",
     "text": [
      "['O', 'R']\n"
     ]
    }
   ],
   "source": [
    "path='C:/Users/user/Desktop/datasetOR'\n",
    "target=os.listdir(os.path.join(path,'TRAIN'))\n",
    "print(target)"
   ]
  },
  {
   "cell_type": "raw",
   "metadata": {},
   "source": [
    "Je déclare un répertoire dans lequel je stockerai les images train, valides et test. Je déclare trois autres diorectoires dans le nouveau répertoire pour le même.\n"
   ]
  },
  {
   "cell_type": "code",
   "execution_count": 83,
   "metadata": {},
   "outputs": [],
   "source": [
    "new_dir='C:/Users/user/Desktop/datasetOR/data'\n",
    "train_path=new_dir+'/train'\n",
    "valid_path=new_dir+'/valid'\n",
    "test_path=new_dir+'/test'"
   ]
  },
  {
   "cell_type": "raw",
   "metadata": {},
   "source": [
    "Faire une fonction pour créer ces répertoires (puisqu'ils n'existent pas)\n"
   ]
  },
  {
   "cell_type": "code",
   "execution_count": 84,
   "metadata": {},
   "outputs": [],
   "source": [
    "def create_dir():\n",
    "    if not os.path.isdir(new_dir):\n",
    "        os.makedirs(new_dir)\n",
    "        os.makedirs(train_path)\n",
    "        os.makedirs(valid_path)\n",
    "        os.makedirs(test_path)\n",
    "        for label in target:\n",
    "            os.makedirs(os.path.join(train_path,label))\n",
    "            os.makedirs(os.path.join(valid_path,label))\n",
    "            os.makedirs(os.path.join(test_path,label))"
   ]
  },
  {
   "cell_type": "code",
   "execution_count": 85,
   "metadata": {},
   "outputs": [],
   "source": [
    "create_dir()"
   ]
  },
  {
   "cell_type": "raw",
   "metadata": {},
   "source": [
    "Vérifier si les répertoires ont été créés avec succès\n"
   ]
  },
  {
   "cell_type": "code",
   "execution_count": 86,
   "metadata": {},
   "outputs": [],
   "source": [
    "def check_path():\n",
    "    print(f'{new_dir}: {os.path.isdir(new_dir)}')\n",
    "    print(f'{train_path}:{os.path.isdir(train_path)}')\n",
    "    print(f'{valid_path}:{os.path.isdir(valid_path)}')\n",
    "    print(f'{test_path}:{os.path.isdir(test_path)}')\n",
    "    for label in target:\n",
    "        print(f'{os.path.join(train_path,label)}:{os.path.isdir(os.path.join(train_path,label))}')\n",
    "        print(f'{os.path.join(valid_path,label)}:{os.path.isdir(os.path.join(valid_path,label))}')\n",
    "        print(f'{os.path.join(test_path,label)}:{os.path.isdir(os.path.join(test_path,label))}')\n"
   ]
  },
  {
   "cell_type": "code",
   "execution_count": 87,
   "metadata": {
    "scrolled": true
   },
   "outputs": [
    {
     "name": "stdout",
     "output_type": "stream",
     "text": [
      "C:/Users/user/Desktop/datasetOR/data: True\n",
      "C:/Users/user/Desktop/datasetOR/data/train:True\n",
      "C:/Users/user/Desktop/datasetOR/data/valid:True\n",
      "C:/Users/user/Desktop/datasetOR/data/test:True\n",
      "C:/Users/user/Desktop/datasetOR/data/train\\O:True\n",
      "C:/Users/user/Desktop/datasetOR/data/valid\\O:True\n",
      "C:/Users/user/Desktop/datasetOR/data/test\\O:True\n",
      "C:/Users/user/Desktop/datasetOR/data/train\\R:True\n",
      "C:/Users/user/Desktop/datasetOR/data/valid\\R:True\n",
      "C:/Users/user/Desktop/datasetOR/data/test\\R:True\n"
     ]
    }
   ],
   "source": [
    "check_path()"
   ]
  },
  {
   "cell_type": "raw",
   "metadata": {},
   "source": [
    "Trouver la taille de l'image, pour connaître la taille d'entrée avec laquelle je travaille\n"
   ]
  },
  {
   "cell_type": "code",
   "execution_count": 88,
   "metadata": {},
   "outputs": [],
   "source": [
    "def find_image_size():\n",
    "    image_path=os.path.join(path,'TRAIN/O')\n",
    "    for image in os.listdir(image_path):\n",
    "        img_path=os.path.join(image_path,image)\n",
    "        img=cv2.imread(img_path)\n",
    "        print(img.shape)\n",
    "        break"
   ]
  },
  {
   "cell_type": "code",
   "execution_count": 89,
   "metadata": {},
   "outputs": [
    {
     "name": "stdout",
     "output_type": "stream",
     "text": [
      "(664, 500, 3)\n"
     ]
    }
   ],
   "source": [
    "find_image_size()"
   ]
  },
  {
   "cell_type": "raw",
   "metadata": {},
   "source": [
    "Configuration de certains paramètres :-\n",
    "\n",
    "1. img_size : la taille à laquelle les images sont redimensionnées\n",
    "2. train_valid_path : le chemin du fichier à partir duquel je vais prendre les images d'entraînement et de validation (tous                           deux à partir de ce chemin)\n",
    "3. testing_path : le chemin du fichier à partir duquel je vais prendre mes images de test"
   ]
  },
  {
   "cell_type": "code",
   "execution_count": 90,
   "metadata": {},
   "outputs": [],
   "source": [
    "img_size=(96,96) \n",
    "batch_size=20\n",
    "epochs=5\n",
    "train_valid_path=path+'/TRAIN' \n",
    "testing_path=path+'/TEST'\n",
    "steps_per_epoch=250"
   ]
  },
  {
   "cell_type": "raw",
   "metadata": {},
   "source": [
    "Trois fonctions pour le chargement des images d'entraînement, de validation et de test respectivement."
   ]
  },
  {
   "cell_type": "code",
   "execution_count": 91,
   "metadata": {},
   "outputs": [],
   "source": [
    "def load_train_images(img_per_category=15):\n",
    "    for folder in os.listdir(train_valid_path):\n",
    "        folder_path=os.path.join(train_valid_path,folder)\n",
    "        print(f'Loading training images for {folder}')\n",
    "        train_image_set=random.sample(os.listdir(folder_path),img_per_category)\n",
    "        dest=os.path.join(train_path,folder)\n",
    "        for c in tqdm(train_image_set):\n",
    "            img_path=os.path.join(folder_path,c)\n",
    "            shutil.copy(img_path,dest)\n",
    "def load_valid_images(img_per_category=7):\n",
    "    for folder in os.listdir(train_valid_path):\n",
    "        folder_path=os.path.join(train_valid_path,folder)\n",
    "        print(f'Loading validation images for {folder}')\n",
    "        dest=os.path.join(valid_path,folder)\n",
    "        valid_image_set=random.sample(os.listdir(folder_path),img_per_category)\n",
    "        for c in tqdm(valid_image_set):\n",
    "            img_path=os.path.join(folder_path,c)\n",
    "            shutil.copy(img_path,dest)\n",
    "def load_test_images(img_per_category=10):\n",
    "    for folder in os.listdir(testing_path):\n",
    "        print(f'Loading the testing images for {folder}')\n",
    "        folder_path=os.path.join(testing_path,folder)\n",
    "        dest=os.path.join(test_path,folder)\n",
    "        test_image_set=random.sample(os.listdir(folder_path),img_per_category)\n",
    "        for c in tqdm(test_image_set):\n",
    "            img_path=os.path.join(folder_path,c)\n",
    "            shutil.copy(img_path,dest)"
   ]
  },
  {
   "cell_type": "code",
   "execution_count": 92,
   "metadata": {
    "scrolled": true
   },
   "outputs": [
    {
     "name": "stderr",
     "output_type": "stream",
     "text": [
      "100%|██████████| 17/17 [00:00<00:00, 253.80it/s]\n",
      " 82%|████████▏ | 14/17 [00:00<00:00, 131.76it/s]"
     ]
    },
    {
     "name": "stdout",
     "output_type": "stream",
     "text": [
      "Loading training images for O\n",
      "Loading training images for R\n"
     ]
    },
    {
     "name": "stderr",
     "output_type": "stream",
     "text": [
      "100%|██████████| 17/17 [00:00<00:00, 127.91it/s]\n"
     ]
    }
   ],
   "source": [
    "load_train_images(17)"
   ]
  },
  {
   "cell_type": "code",
   "execution_count": 93,
   "metadata": {},
   "outputs": [
    {
     "name": "stderr",
     "output_type": "stream",
     "text": [
      "100%|██████████| 3/3 [00:00<00:00, 500.12it/s]\n",
      "100%|██████████| 3/3 [00:00<00:00, 500.47it/s]"
     ]
    },
    {
     "name": "stdout",
     "output_type": "stream",
     "text": [
      "Loading validation images for O\n",
      "Loading validation images for R\n"
     ]
    },
    {
     "name": "stderr",
     "output_type": "stream",
     "text": [
      "\n"
     ]
    }
   ],
   "source": [
    "load_valid_images(3)\n"
   ]
  },
  {
   "cell_type": "code",
   "execution_count": 94,
   "metadata": {
    "scrolled": true
   },
   "outputs": [
    {
     "name": "stderr",
     "output_type": "stream",
     "text": [
      "100%|██████████| 5/5 [00:00<00:00, 40.67it/s]\n",
      "  0%|          | 0/5 [00:00<?, ?it/s]"
     ]
    },
    {
     "name": "stdout",
     "output_type": "stream",
     "text": [
      "Loading the testing images for O\n",
      "Loading the testing images for R\n"
     ]
    },
    {
     "name": "stderr",
     "output_type": "stream",
     "text": [
      "100%|██████████| 5/5 [00:00<00:00, 30.03it/s]\n"
     ]
    }
   ],
   "source": [
    "load_test_images(5)"
   ]
  },
  {
   "cell_type": "raw",
   "metadata": {},
   "source": [
    "Faire le train, valider et tester les données à l'aide d'Image Data Loader. J'ai mis à l'échelle chaque pixel de 255 pour que les valeurs d'entrée soient comprises entre 0 et 1, ce qui facilitera l'utilisation de notre modèle."
   ]
  },
  {
   "cell_type": "code",
   "execution_count": 95,
   "metadata": {},
   "outputs": [
    {
     "name": "stdout",
     "output_type": "stream",
     "text": [
      "Found 41 images belonging to 2 classes.\n",
      "Found 21 images belonging to 2 classes.\n",
      "Found 31 images belonging to 2 classes.\n"
     ]
    }
   ],
   "source": [
    "datagen=ImageDataGenerator(preprocessing_function=tf.keras.applications.vgg16.preprocess_input,rescale=1./255)\n",
    "train_batch=ImageDataGenerator(preprocessing_function=tf.keras.applications.vgg16.preprocess_input,rescale=1./255,horizontal_flip=True).flow_from_directory(directory=train_path,target_size=img_size,classes=target,batch_size=batch_size)\n",
    "valid_batch=datagen.flow_from_directory(directory=valid_path,target_size=img_size,classes=target,batch_size=batch_size)\n",
    "test_batch=datagen.flow_from_directory(directory=test_path,target_size=img_size,classes=target,batch_size=batch_size,shuffle=False)"
   ]
  },
  {
   "cell_type": "raw",
   "metadata": {},
   "source": [
    "Vérifier si les valeurs de pixels ont été mises à l'échelle ou non"
   ]
  },
  {
   "cell_type": "code",
   "execution_count": 96,
   "metadata": {},
   "outputs": [
    {
     "name": "stdout",
     "output_type": "stream",
     "text": [
      "0.59239614\n"
     ]
    }
   ],
   "source": [
    "images,labels=train_batch.next()\n",
    "print(np.max(images))"
   ]
  },
  {
   "cell_type": "raw",
   "metadata": {},
   "source": [
    "Faire une fonction pour définir notre modèle."
   ]
  },
  {
   "cell_type": "code",
   "execution_count": 97,
   "metadata": {},
   "outputs": [],
   "source": [
    "def myModel(img):\n",
    "    layer=int(np.log2(img))\n",
    "    model=[]\n",
    "    model+=[\n",
    "        Conv2D(filters=32,kernel_size=(3,3),strides=1,padding='same',input_shape=(img,img,3),activation='relu'),\n",
    "        BatchNormalization(),\n",
    "        Conv2D(filters=32,kernel_size=(3,3),strides=1,padding='same',activation='relu'),\n",
    "        BatchNormalization(),\n",
    "        AvgPool2D(pool_size=(2,2),strides=2),\n",
    "    ]\n",
    "    layer-=1\n",
    "    filters=64\n",
    "    for i in range(layer):\n",
    "        model+=[\n",
    "            Conv2D(filters=filters,kernel_size=(3,3),strides=1,padding='same',activation='relu'),\n",
    "            BatchNormalization(),\n",
    "            Conv2D(filters=filters,kernel_size=(3,3),strides=1,padding='same',activation='relu'),\n",
    "            BatchNormalization(),\n",
    "            AvgPool2D(pool_size=(2,2),strides=2),\n",
    "        ]\n",
    "        filters*=2\n",
    "    model+=[\n",
    "        Flatten(),\n",
    "        Dense(units=4096,activation='relu'),\n",
    "        Dense(units=4096,activation='relu'),\n",
    "        Dense(units=len(target),activation='softmax')\n",
    "    ]\n",
    "    return Sequential(model)"
   ]
  },
  {
   "cell_type": "raw",
   "metadata": {},
   "source": [
    "Créer une fonction pour construire le modèle. Puisque Keras tuner veut une fonction de constructeur et non un modèle. Le (Hyperband, utilisé ici) Tuner lui-même lors de la recherche des paramètres optimaux utilisera le constructeur fourni pour construire plusieurs modèles et les former sur les données et sélectionner la moitié qui fonctionne le mieux et continuer jusqu'à ce qu'il n'en reste qu'un."
   ]
  },
  {
   "cell_type": "code",
   "execution_count": 98,
   "metadata": {},
   "outputs": [],
   "source": [
    "def build_model(hp):\n",
    "    model=myModel(96)\n",
    "    hp_lr=hp.Choice('learning_rate',values=list(np.linspace(start=0.0001,stop=0.0006,num=12)))\n",
    "    model.compile(optimizer=Adam(lr=hp_lr),loss='categorical_crossentropy',metrics=['accuracy'])\n",
    "    return model"
   ]
  },
  {
   "cell_type": "raw",
   "metadata": {},
   "source": [
    "Faire l'objet tuner keras"
   ]
  },
  {
   "cell_type": "code",
   "execution_count": 99,
   "metadata": {},
   "outputs": [
    {
     "name": "stdout",
     "output_type": "stream",
     "text": [
      "INFO:tensorflow:Reloading Oracle from existing project .\\untitled_project\\oracle.json\n",
      "INFO:tensorflow:Reloading Tuner from .\\untitled_project\\tuner0.json\n"
     ]
    }
   ],
   "source": [
    "tuner=kt.Hyperband(build_model,objective='val_accuracy',max_epochs=epochs)\n"
   ]
  },
  {
   "cell_type": "raw",
   "metadata": {},
   "source": [
    "Faire le signal d'arrêt précoce. Cela arrêtera le modèle si la perte de validation (moniteur) ne s'améliore pas pendant 5 (patience) époques"
   ]
  },
  {
   "cell_type": "code",
   "execution_count": 100,
   "metadata": {},
   "outputs": [],
   "source": [
    "stop_early=EarlyStopping(monitor='val_loss',patience=5)\n"
   ]
  },
  {
   "cell_type": "raw",
   "metadata": {},
   "source": [
    "Utilisation de la méthode de recherche pour obtenir le taux d'apprentissage optimal (le fait que j'aie attendu 36 minutes pour 0,0001 est tout simplement triste : ( )."
   ]
  },
  {
   "cell_type": "code",
   "execution_count": 101,
   "metadata": {
    "scrolled": true
   },
   "outputs": [
    {
     "name": "stdout",
     "output_type": "stream",
     "text": [
      "INFO:tensorflow:Oracle triggered exit\n"
     ]
    }
   ],
   "source": [
    "tuner.search(train_batch,epochs=5,validation_data=valid_batch,callbacks=[stop_early])\n"
   ]
  },
  {
   "cell_type": "raw",
   "metadata": {},
   "source": [
    "Obtenir et imprimer les meilleurs hyperparamètres"
   ]
  },
  {
   "cell_type": "code",
   "execution_count": 102,
   "metadata": {},
   "outputs": [
    {
     "name": "stdout",
     "output_type": "stream",
     "text": [
      "0.0003727272727272727\n"
     ]
    }
   ],
   "source": [
    "best_hp=best_hps=tuner.get_best_hyperparameters(num_trials=1)[0]\n",
    "print(best_hp.get('learning_rate'))"
   ]
  },
  {
   "cell_type": "raw",
   "metadata": {},
   "source": [
    "\n",
    "Construire le modèle avec les meilleurs hyperparamètres que nous avons obtenus de la recherche"
   ]
  },
  {
   "cell_type": "code",
   "execution_count": 103,
   "metadata": {},
   "outputs": [],
   "source": [
    "model=tuner.hypermodel.build(best_hp)\n"
   ]
  },
  {
   "cell_type": "raw",
   "metadata": {},
   "source": [
    "\n",
    "Entraîner le modèle"
   ]
  },
  {
   "cell_type": "code",
   "execution_count": 104,
   "metadata": {},
   "outputs": [
    {
     "name": "stdout",
     "output_type": "stream",
     "text": [
      "Epoch 1/5\n",
      "WARNING:tensorflow:Your input ran out of data; interrupting training. Make sure that your dataset or generator can generate at least `steps_per_epoch * epochs` batches (in this case, 1250 batches). You may need to use the repeat() function when building your dataset.\n",
      "250/250 - 11s - loss: 0.6787 - accuracy: 0.4634 - val_loss: 0.7022 - val_accuracy: 0.4762\n"
     ]
    }
   ],
   "source": [
    "history=model.fit(x=train_batch,validation_data=valid_batch,epochs=epochs,steps_per_epoch=steps_per_epoch,verbose=2,batch_size=batch_size)"
   ]
  },
  {
   "cell_type": "raw",
   "metadata": {},
   "source": [
    "Vérification du résultat du modèle sur l'ensemble de test et impression de la précision"
   ]
  },
  {
   "cell_type": "code",
   "execution_count": 105,
   "metadata": {},
   "outputs": [
    {
     "name": "stdout",
     "output_type": "stream",
     "text": [
      "Accuracy: 48.38709677419355\n"
     ]
    }
   ],
   "source": [
    "pre=model.predict(x=test_batch,verbose=0)\n",
    "np.round(pre)\n",
    "cm=confusion_matrix(y_true=test_batch.classes,y_pred=np.argmax(pre,axis=-1))\n",
    "print(f'Accuracy: {(cm.trace()/cm.sum())*100}')"
   ]
  },
  {
   "cell_type": "raw",
   "metadata": {},
   "source": [
    "Obtenir la précision de l'entraînement et de la validation pour le modèle"
   ]
  },
  {
   "cell_type": "code",
   "execution_count": 106,
   "metadata": {},
   "outputs": [],
   "source": [
    "val_accuracy=history.history['val_accuracy']\n",
    "train_accuracy=history.history['accuracy']"
   ]
  },
  {
   "cell_type": "raw",
   "metadata": {},
   "source": [
    "Tracer la précision de la formation et de la validation"
   ]
  },
  {
   "cell_type": "code",
   "execution_count": 107,
   "metadata": {},
   "outputs": [
    {
     "data": {
      "text/plain": [
       "<matplotlib.legend.Legend at 0x20006566850>"
      ]
     },
     "execution_count": 107,
     "metadata": {},
     "output_type": "execute_result"
    },
    {
     "data": {
      "image/png": "[encoded data removed]",
      "text/plain": [
       "<Figure size 432x288 with 1 Axes>"
      ]
     },
     "metadata": {
      "needs_background": "light"
     },
     "output_type": "display_data"
    }
   ],
   "source": [
    "plt.plot(val_accuracy)\n",
    "plt.plot(train_accuracy)\n",
    "plt.xlabel('Epochs')\n",
    "plt.ylabel('Accuracy')\n",
    "plt.legend(['Validation accuracy','Training accuracy'])"
   ]
  },
  {
   "cell_type": "code",
   "execution_count": null,
   "metadata": {},
   "outputs": [],
   "source": []
  }
 ],
 "metadata": {
  "kernelspec": {
   "display_name": "Python 3",
   "language": "python",
   "name": "python3"
  },
  "language_info": {
   "codemirror_mode": {
    "name": "ipython",
    "version": 3
   },
   "file_extension": ".py",
   "mimetype": "text/x-python",
   "name": "python",
   "nbconvert_exporter": "python",
   "pygments_lexer": "ipython3",
   "version": "3.8.5"
  }
 },
 "nbformat": 4,
 "nbformat_minor": 4
}
